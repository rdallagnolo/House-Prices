{
 "cells": [
  {
   "cell_type": "code",
   "execution_count": 18,
   "id": "0366f7d5-348c-43a1-a9eb-ee08741d2226",
   "metadata": {},
   "outputs": [],
   "source": [
    "# This is to supress the warning messages (if any) generated in our code\n",
    "import warnings\n",
    "warnings.filterwarnings('ignore')\n",
    "\n",
    "# Import of fundamental libraries \n",
    "import pandas as pd\n",
    "import numpy as np\n",
    "import matplotlib.pyplot as plt\n",
    "import seaborn as sns\n",
    "import statistics as sts\n",
    "%matplotlib inline"
   ]
  },
  {
   "cell_type": "markdown",
   "id": "5adc11a3-cd4f-423a-bfa0-5db526df9a26",
   "metadata": {},
   "source": [
    "# Machine learning"
   ]
  },
  {
   "cell_type": "markdown",
   "id": "ff63d063-ad76-481c-86c1-e46e6b96a06f",
   "metadata": {},
   "source": [
    "### Processing"
   ]
  },
  {
   "cell_type": "code",
   "execution_count": 22,
   "id": "267094a3-40ec-4a59-986a-21b314dba85a",
   "metadata": {},
   "outputs": [],
   "source": [
    "import pandas as pd\n",
    "full_data = pd.read_csv('full_data.csv',index_col=0)"
   ]
  },
  {
   "cell_type": "code",
   "execution_count": 23,
   "id": "1477a07b-0a66-44b5-bda9-7dbe9b5fa5f5",
   "metadata": {},
   "outputs": [],
   "source": [
    "####################################\n",
    "## spliting train and test datasets \n",
    "###################################\n",
    "import numpy as np\n",
    "\n",
    "X = full_data.iloc[:1451,]\n",
    "y = X['SalePrice']\n",
    "test = full_data.iloc[1451:,]\n",
    "\n",
    "X.drop('SalePrice',axis=1,inplace=True)\n",
    "test.drop('SalePrice',axis=1,inplace=True)"
   ]
  },
  {
   "cell_type": "code",
   "execution_count": 25,
   "id": "d9bfc403-d587-4252-9774-8b7fe4affdea",
   "metadata": {},
   "outputs": [],
   "source": [
    "##############################################\n",
    "## Scaling the data\n",
    "#############################################\n",
    "from sklearn.preprocessing import RobustScaler\n",
    "\n",
    "cols = X.select_dtypes(np.number).columns\n",
    "transformer = RobustScaler().fit(X[cols])\n",
    "X[cols] = transformer.transform(X[cols])\n",
    "test[cols] = transformer.transform(test[cols])"
   ]
  },
  {
   "cell_type": "code",
   "execution_count": 26,
   "id": "d23609b5-6d3b-4c92-a119-f535b685a3cb",
   "metadata": {},
   "outputs": [],
   "source": [
    "##############################################\n",
    "## Split data in train and valuation datasetes\n",
    "##############################################\n",
    "from sklearn.model_selection import train_test_split\n",
    "\n",
    "X_train, X_val, y_train, y_val = train_test_split(X, y, test_size=0.2, random_state=21)"
   ]
  },
  {
   "cell_type": "code",
   "execution_count": 27,
   "id": "c655aa67-5270-4401-9a3e-ca729b9fd27d",
   "metadata": {},
   "outputs": [],
   "source": [
    "##############################################\n",
    "# XGBoost\n",
    "#############################################\n",
    "from xgboost import XGBRegressor\n",
    "from sklearn.model_selection import RandomizedSearchCV\n",
    "\n",
    "# Instanciate the model\n",
    "xgb = XGBRegressor(booster='gbtree', objective='reg:squarederror')\n",
    "\n",
    "#list of parameters to optimize\n",
    "param_lst = {\n",
    "    'learning_rate' : [0.01, 0.1, 0.15, 0.3, 0.5],\n",
    "    'n_estimators' : [100, 500, 1000, 2000, 3000],\n",
    "    'max_depth' : [3, 6, 9],\n",
    "    'min_child_weight' : [1, 5, 10, 20],\n",
    "    'reg_alpha' : [0.001, 0.01, 0.1],\n",
    "    'reg_lambda' : [0.001, 0.01, 0.1]\n",
    "}\n",
    "\n",
    "# Randomizedd search instance\n",
    "xgb_reg = RandomizedSearchCV(estimator = xgb, \n",
    "                             param_distributions = param_lst,\n",
    "                             n_iter = 100,\n",
    "                             scoring = 'neg_root_mean_squared_error',\n",
    "                             cv = 5)"
   ]
  },
  {
   "cell_type": "code",
   "execution_count": 28,
   "id": "e301857c-708b-45b4-a3f7-d3bee92bfa63",
   "metadata": {},
   "outputs": [
    {
     "name": "stdout",
     "output_type": "stream",
     "text": [
      "Tuning XGBoost hyperparameters:32.51 minutes\n"
     ]
    }
   ],
   "source": [
    "# Looking for the best parametes and timing the search\n",
    "import time\n",
    "start = time.time()\n",
    "xgb_search = xgb_reg.fit(X_train, y_train)\n",
    "stop = time.time()\n",
    "ttime = (stop-start)/60\n",
    "print(f'Tuning XGBoost hyperparameters:{ttime:.2f} minutes')\n",
    "\n",
    "best_param = xgb_search.best_params_\n",
    "xgb = XGBRegressor(**best_param)ui"
   ]
  },
  {
   "cell_type": "markdown",
   "id": "6f545498-e243-4afd-8b61-5b7e491a5d42",
   "metadata": {},
   "source": [
    "### Training and Evaluation"
   ]
  },
  {
   "cell_type": "code",
   "execution_count": 29,
   "id": "30457b0c-00dc-42f1-b2b3-16f2cc03ad75",
   "metadata": {},
   "outputs": [
    {
     "name": "stdout",
     "output_type": "stream",
     "text": [
      "Mean Absolute Error: 0.0900\n",
      "Root of Mean Squared Error: 0.1276\n",
      "Score (R^2): 0.8979\n",
      "Mean of cross_val score: 0.8915\n",
      "Time to train the model:4.935 seconds\n"
     ]
    }
   ],
   "source": [
    "#####################################\n",
    "## function to calculate the mean score of cross_val\n",
    "#####################################\n",
    "def mean_cross_val(model, X, y):\n",
    "    score = cross_val_score(model, X, y, cv=5)\n",
    "    mean = score.mean()\n",
    "    return mean\n",
    "\n",
    "from sklearn.metrics import mean_squared_error, mean_absolute_error\n",
    "from sklearn.model_selection import cross_val_score\n",
    "\n",
    "start = time.time()\n",
    "xgb.fit(X_train, y_train)   \n",
    "stop = time.time()\n",
    "\n",
    "preds = xgb.predict(X_val) \n",
    "preds_test_xgb = xgb.predict(test)\n",
    "mae_xgb = mean_absolute_error(y_val, preds)\n",
    "rmse_xgb = np.sqrt(mean_squared_error(y_val, preds))\n",
    "score_xgb = xgb.score(X_val, y_val)\n",
    "cv_xgb = mean_cross_val(xgb, X, y)\n",
    "\n",
    "print(f'Mean Absolute Error: {mae_xgb:.4f}')\n",
    "print(f'Root of Mean Squared Error: {rmse_xgb:.4f}')\n",
    "print(f'Score (R^2): {score_xgb:.4f}')\n",
    "print(f'Mean of cross_val score: {cv_xgb:.4f}')\n",
    "print(f'Time to train the model:{stop-start:.3f} seconds')"
   ]
  },
  {
   "cell_type": "code",
   "execution_count": 30,
   "id": "c2e83742-66a8-41a7-a727-067ba1aaeea9",
   "metadata": {},
   "outputs": [
    {
     "name": "stdout",
     "output_type": "stream",
     "text": [
      "Ready!!\n"
     ]
    }
   ],
   "source": [
    "subm = np.exp(preds_test_xgb)\n",
    "output = pd.DataFrame({'Id': test.index,\n",
    "                       'SalePrice': subm})\n",
    "output.to_csv('submission_v1.csv',index=False)\n",
    "print('Ready!!')"
   ]
  },
  {
   "cell_type": "code",
   "execution_count": 12,
   "id": "27a7e70d-c9c6-4657-83b9-5e70007c963e",
   "metadata": {},
   "outputs": [],
   "source": [
    "subm = np.exp(preds_test_xgb)"
   ]
  },
  {
   "cell_type": "code",
   "execution_count": 35,
   "id": "82945ef6-94d8-458a-a518-b32fdbff78b0",
   "metadata": {},
   "outputs": [
    {
     "data": {
      "text/plain": [
       "(1451, 189)"
      ]
     },
     "execution_count": 35,
     "metadata": {},
     "output_type": "execute_result"
    }
   ],
   "source": [
    "X.shape"
   ]
  },
  {
   "cell_type": "code",
   "execution_count": 36,
   "id": "665dbf4f-d563-4094-a8bb-a7b9018ffe40",
   "metadata": {},
   "outputs": [],
   "source": [
    "df = pd.DataFrame(columns=[\"Feature\", \"Importance\"])\n",
    "df[\"Feature\"] = X.columns\n",
    "df[\"Importance\"] = xgb.feature_importances_\n",
    "df.sort_values(\"Importance\", axis=0, ascending=False, inplace=True)\n"
   ]
  },
  {
   "cell_type": "code",
   "execution_count": 38,
   "id": "47cda596-7f79-46ac-aad6-5b73e268ade4",
   "metadata": {},
   "outputs": [
    {
     "data": {
      "text/html": [
       "<div>\n",
       "<style scoped>\n",
       "    .dataframe tbody tr th:only-of-type {\n",
       "        vertical-align: middle;\n",
       "    }\n",
       "\n",
       "    .dataframe tbody tr th {\n",
       "        vertical-align: top;\n",
       "    }\n",
       "\n",
       "    .dataframe thead th {\n",
       "        text-align: right;\n",
       "    }\n",
       "</style>\n",
       "<table border=\"1\" class=\"dataframe\">\n",
       "  <thead>\n",
       "    <tr style=\"text-align: right;\">\n",
       "      <th></th>\n",
       "      <th>Feature</th>\n",
       "      <th>Importance</th>\n",
       "    </tr>\n",
       "  </thead>\n",
       "  <tbody>\n",
       "    <tr>\n",
       "      <th>3</th>\n",
       "      <td>OverallQual</td>\n",
       "      <td>0.220628</td>\n",
       "    </tr>\n",
       "    <tr>\n",
       "      <th>24</th>\n",
       "      <td>KitchenQual</td>\n",
       "      <td>0.107038</td>\n",
       "    </tr>\n",
       "    <tr>\n",
       "      <th>37</th>\n",
       "      <td>MSZoning_RM</td>\n",
       "      <td>0.044770</td>\n",
       "    </tr>\n",
       "    <tr>\n",
       "      <th>148</th>\n",
       "      <td>CentralAir_N</td>\n",
       "      <td>0.036155</td>\n",
       "    </tr>\n",
       "    <tr>\n",
       "      <th>9</th>\n",
       "      <td>BsmtQual</td>\n",
       "      <td>0.035822</td>\n",
       "    </tr>\n",
       "    <tr>\n",
       "      <th>26</th>\n",
       "      <td>FireplaceQu</td>\n",
       "      <td>0.035328</td>\n",
       "    </tr>\n",
       "    <tr>\n",
       "      <th>109</th>\n",
       "      <td>Exterior1st_BrkComm</td>\n",
       "      <td>0.034103</td>\n",
       "    </tr>\n",
       "    <tr>\n",
       "      <th>19</th>\n",
       "      <td>GrLivArea</td>\n",
       "      <td>0.030473</td>\n",
       "    </tr>\n",
       "    <tr>\n",
       "      <th>170</th>\n",
       "      <td>GarageFinish_Unf</td>\n",
       "      <td>0.028241</td>\n",
       "    </tr>\n",
       "    <tr>\n",
       "      <th>103</th>\n",
       "      <td>RoofStyle_Gambrel</td>\n",
       "      <td>0.026424</td>\n",
       "    </tr>\n",
       "  </tbody>\n",
       "</table>\n",
       "</div>"
      ],
      "text/plain": [
       "                 Feature  Importance\n",
       "3            OverallQual    0.220628\n",
       "24           KitchenQual    0.107038\n",
       "37           MSZoning_RM    0.044770\n",
       "148         CentralAir_N    0.036155\n",
       "9               BsmtQual    0.035822\n",
       "26           FireplaceQu    0.035328\n",
       "109  Exterior1st_BrkComm    0.034103\n",
       "19             GrLivArea    0.030473\n",
       "170     GarageFinish_Unf    0.028241\n",
       "103    RoofStyle_Gambrel    0.026424"
      ]
     },
     "execution_count": 38,
     "metadata": {},
     "output_type": "execute_result"
    }
   ],
   "source": [
    "df.head(10)"
   ]
  },
  {
   "cell_type": "code",
   "execution_count": null,
   "id": "9de62c36-104d-4c58-a6bd-24029f7e7a24",
   "metadata": {},
   "outputs": [],
   "source": []
  }
 ],
 "metadata": {
  "kernelspec": {
   "display_name": "Python 3 (ipykernel)",
   "language": "python",
   "name": "python3"
  },
  "language_info": {
   "codemirror_mode": {
    "name": "ipython",
    "version": 3
   },
   "file_extension": ".py",
   "mimetype": "text/x-python",
   "name": "python",
   "nbconvert_exporter": "python",
   "pygments_lexer": "ipython3",
   "version": "3.9.7"
  }
 },
 "nbformat": 4,
 "nbformat_minor": 5
}

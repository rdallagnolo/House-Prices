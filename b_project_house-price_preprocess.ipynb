{
 "cells": [
  {
   "cell_type": "code",
   "execution_count": 141,
   "id": "a139d25d-bf7a-463c-a691-c57f5de4b343",
   "metadata": {},
   "outputs": [],
   "source": [
    "# checking files in my project's directory\n",
    "#import os\n",
    "#for dirname, _, filenames in os.walk('/home/pops/DataScience/my_projects/kaggle/House_Prices'):\n",
    "#    for filename in filenames:\n",
    "#        print(os.path.join(dirname, filename))"
   ]
  },
  {
   "cell_type": "markdown",
   "id": "408d8cfe-2cc1-45f7-88ec-26726103ec9c",
   "metadata": {},
   "source": [
    "# Preprocessing"
   ]
  },
  {
   "cell_type": "code",
   "execution_count": 142,
   "id": "42db841d-5d11-45aa-801c-76fc168c9254",
   "metadata": {},
   "outputs": [],
   "source": [
    "# This is to supress the warning messages (if any) generated in our code\n",
    "import warnings\n",
    "warnings.filterwarnings('ignore')\n",
    "\n",
    "# Import of fundamental libraries \n",
    "import pandas as pd\n",
    "import numpy as np\n",
    "import matplotlib.pyplot as plt\n",
    "import seaborn as sns\n",
    "import statistics as sts\n",
    "%matplotlib inline"
   ]
  },
  {
   "cell_type": "code",
   "execution_count": 143,
   "id": "35f079e3-d415-4cb2-a909-baf719bdf8e0",
   "metadata": {},
   "outputs": [
    {
     "name": "stdout",
     "output_type": "stream",
     "text": [
      "Train dataset: 1460 rows and 80 columns\n",
      "Test dataset:  1459 rows and 79 columns\n",
      "full_data dataset:  2919 rows and 80 columns\n"
     ]
    }
   ],
   "source": [
    "train = pd.read_csv('train.csv',index_col=0)\n",
    "test = pd.read_csv('test.csv',index_col=0)\n",
    "\n",
    "# Concatenating train and test datasets.\n",
    "# They can be split again later on using the id columns as reference\n",
    "full_data = pd.concat([train,test],axis=0)\n",
    "\n",
    "print(f'Train dataset: {train.shape[0]} rows and {train.shape[1]} columns')\n",
    "print(f'Test dataset:  {test.shape[0]} rows and {test.shape[1]} columns')\n",
    "print(f'full_data dataset:  {full_data.shape[0]} rows and {full_data.shape[1]} columns')"
   ]
  },
  {
   "cell_type": "code",
   "execution_count": 144,
   "id": "96d8570c-f647-4f8f-9797-cc6d2feb16bc",
   "metadata": {},
   "outputs": [],
   "source": [
    "# A huge mix of categorical (nominal and ordinal) with numerical (discrete and continuos) features.\n",
    "# We will split them and apply some EDA seperately\n",
    "from sklearn.compose import make_column_selector as selector\n",
    "\n",
    "#####################\n",
    "# All numerical features\n",
    "####################\n",
    "num_cols = selector(dtype_exclude=['object','category'])\n",
    "num_cols = num_cols(train)\n",
    "num_cols.remove('MSSubClass')\n",
    "num_cols.remove('SalePrice')\n",
    "\n",
    "####################################\n",
    "# Numerical features: Discrete (disc)\n",
    "####################################\n",
    "disc = ['OverallQual','OverallCond','BsmtFullBath','BsmtHalfBath','FullBath','HalfBath',\n",
    "        'BedroomAbvGr', 'KitchenAbvGr', 'TotRmsAbvGrd', 'Fireplaces', 'GarageCars', 'MoSold', 'YrSold']\n",
    "\n",
    "################################\n",
    "# Numerical features: Continuous\n",
    "###############################\n",
    "cont = []\n",
    "for i in num_cols:\n",
    "    if i not in disc:\n",
    "        cont.append(i)\n",
    "\n",
    "######################\n",
    "# All categorical features\n",
    "#####################\n",
    "cat_cols = selector(dtype_include=['object','category'])\n",
    "cat_cols = cat_cols(train)\n",
    "cat_cols = cat_cols + ['MSSubClass']\n",
    "\n",
    "#################\n",
    "# Ordinal \n",
    "#################\n",
    "ordi = ['ExterQual', 'ExterCond', 'BsmtQual', 'BsmtCond', 'BsmtExposure', 'BsmtFinType1',\n",
    "       'BsmtFinType2', 'HeatingQC', 'KitchenQual', 'FireplaceQu', 'GarageQual', 'GarageCond','PoolQC', 'Fence']\n",
    "\n",
    "# Nominal\n",
    "nomi = []\n",
    "for i in cat_cols:\n",
    "    if i not in ordi:\n",
    "        nomi.append(i)"
   ]
  },
  {
   "cell_type": "markdown",
   "id": "18ba5e6b-37ed-4db6-a36b-3369117b9f47",
   "metadata": {},
   "source": [
    "## Low correlation features"
   ]
  },
  {
   "cell_type": "markdown",
   "id": "989fcd33-1141-4806-b130-1df4023f092e",
   "metadata": {},
   "source": [
    "Removing all features with correlation lower than 0.1"
   ]
  },
  {
   "cell_type": "code",
   "execution_count": 145,
   "id": "89f6d40c-3a1b-4e2d-a3bd-e78bc9746657",
   "metadata": {},
   "outputs": [],
   "source": [
    "num_cols_S = num_cols + ['SalePrice']\n",
    "correlation = train[num_cols_S].corr()\n",
    "c1 = correlation[['SalePrice']].sort_values(['SalePrice'],ascending=False)"
   ]
  },
  {
   "cell_type": "code",
   "execution_count": 146,
   "id": "09ebc752-c714-4299-af09-58810af10e06",
   "metadata": {},
   "outputs": [
    {
     "data": {
      "text/html": [
       "<div>\n",
       "<style scoped>\n",
       "    .dataframe tbody tr th:only-of-type {\n",
       "        vertical-align: middle;\n",
       "    }\n",
       "\n",
       "    .dataframe tbody tr th {\n",
       "        vertical-align: top;\n",
       "    }\n",
       "\n",
       "    .dataframe thead th {\n",
       "        text-align: right;\n",
       "    }\n",
       "</style>\n",
       "<table border=\"1\" class=\"dataframe\">\n",
       "  <thead>\n",
       "    <tr style=\"text-align: right;\">\n",
       "      <th></th>\n",
       "      <th>SalePrice</th>\n",
       "    </tr>\n",
       "  </thead>\n",
       "  <tbody>\n",
       "    <tr>\n",
       "      <th>PoolArea</th>\n",
       "      <td>0.092404</td>\n",
       "    </tr>\n",
       "    <tr>\n",
       "      <th>MoSold</th>\n",
       "      <td>0.046432</td>\n",
       "    </tr>\n",
       "    <tr>\n",
       "      <th>3SsnPorch</th>\n",
       "      <td>0.044584</td>\n",
       "    </tr>\n",
       "    <tr>\n",
       "      <th>BsmtFinSF2</th>\n",
       "      <td>-0.011378</td>\n",
       "    </tr>\n",
       "    <tr>\n",
       "      <th>BsmtHalfBath</th>\n",
       "      <td>-0.016844</td>\n",
       "    </tr>\n",
       "    <tr>\n",
       "      <th>MiscVal</th>\n",
       "      <td>-0.021190</td>\n",
       "    </tr>\n",
       "    <tr>\n",
       "      <th>LowQualFinSF</th>\n",
       "      <td>-0.025606</td>\n",
       "    </tr>\n",
       "    <tr>\n",
       "      <th>YrSold</th>\n",
       "      <td>-0.028923</td>\n",
       "    </tr>\n",
       "    <tr>\n",
       "      <th>OverallCond</th>\n",
       "      <td>-0.077856</td>\n",
       "    </tr>\n",
       "    <tr>\n",
       "      <th>EnclosedPorch</th>\n",
       "      <td>-0.128578</td>\n",
       "    </tr>\n",
       "    <tr>\n",
       "      <th>KitchenAbvGr</th>\n",
       "      <td>-0.135907</td>\n",
       "    </tr>\n",
       "  </tbody>\n",
       "</table>\n",
       "</div>"
      ],
      "text/plain": [
       "               SalePrice\n",
       "PoolArea        0.092404\n",
       "MoSold          0.046432\n",
       "3SsnPorch       0.044584\n",
       "BsmtFinSF2     -0.011378\n",
       "BsmtHalfBath   -0.016844\n",
       "MiscVal        -0.021190\n",
       "LowQualFinSF   -0.025606\n",
       "YrSold         -0.028923\n",
       "OverallCond    -0.077856\n",
       "EnclosedPorch  -0.128578\n",
       "KitchenAbvGr   -0.135907"
      ]
     },
     "execution_count": 146,
     "metadata": {},
     "output_type": "execute_result"
    }
   ],
   "source": [
    "c1[c1['SalePrice']<0.1]"
   ]
  },
  {
   "cell_type": "code",
   "execution_count": 147,
   "id": "1e25909b-f033-4195-8eec-2987bd909a42",
   "metadata": {},
   "outputs": [],
   "source": [
    "lowcorr = list(c1[c1['SalePrice']<0.1].index)"
   ]
  },
  {
   "cell_type": "code",
   "execution_count": 148,
   "id": "ef77253e-cef2-4711-9be7-30db464caa70",
   "metadata": {},
   "outputs": [
    {
     "data": {
      "text/plain": [
       "['PoolArea',\n",
       " 'MoSold',\n",
       " '3SsnPorch',\n",
       " 'BsmtFinSF2',\n",
       " 'BsmtHalfBath',\n",
       " 'MiscVal',\n",
       " 'LowQualFinSF',\n",
       " 'YrSold',\n",
       " 'OverallCond',\n",
       " 'EnclosedPorch',\n",
       " 'KitchenAbvGr']"
      ]
     },
     "execution_count": 148,
     "metadata": {},
     "output_type": "execute_result"
    }
   ],
   "source": [
    "lowcorr"
   ]
  },
  {
   "cell_type": "code",
   "execution_count": 149,
   "id": "0a3492a2-c558-44d9-9004-317fb22729e8",
   "metadata": {},
   "outputs": [],
   "source": [
    "full_data.drop(lowcorr, axis=1, inplace=True)"
   ]
  },
  {
   "cell_type": "code",
   "execution_count": 150,
   "id": "7dc623a9-5cc7-427c-a010-1209ec29f834",
   "metadata": {},
   "outputs": [],
   "source": [
    "# removing from 'cont' list the features dropped\n",
    "for i in lowcorr:\n",
    "    if i in cont:\n",
    "        cont.remove(i)"
   ]
  },
  {
   "cell_type": "code",
   "execution_count": 151,
   "id": "0854319e-d6a0-4d77-b882-870fd09e4b3b",
   "metadata": {},
   "outputs": [],
   "source": [
    "# removing from 'cont' list the features dropped\n",
    "for i in lowcorr:\n",
    "    if i in disc:\n",
    "        disc.remove(i)"
   ]
  },
  {
   "cell_type": "code",
   "execution_count": 152,
   "id": "7ed6991d-0f10-4d47-91c0-0eb790887062",
   "metadata": {},
   "outputs": [
    {
     "data": {
      "text/plain": [
       "(2919, 69)"
      ]
     },
     "execution_count": 152,
     "metadata": {},
     "output_type": "execute_result"
    }
   ],
   "source": [
    "full_data.shape"
   ]
  },
  {
   "cell_type": "code",
   "execution_count": 153,
   "id": "3027ccd2-8f64-48f8-869f-4aa3c242848b",
   "metadata": {},
   "outputs": [
    {
     "data": {
      "image/png": "[encoded data removed]",
      "text/plain": [
       "<Figure size 1728x432 with 1 Axes>"
      ]
     },
     "metadata": {
      "needs_background": "light"
     },
     "output_type": "display_data"
    }
   ],
   "source": [
    "plt.figure(figsize=(24,6))\n",
    "sns.heatmap(full_data.isnull(),\n",
    "            yticklabels=False,\n",
    "            cbar=False,\n",
    "            cmap='viridis');"
   ]
  },
  {
   "cell_type": "code",
   "execution_count": 154,
   "id": "5a6d17f3-68d8-4864-8726-815c057ab95e",
   "metadata": {},
   "outputs": [],
   "source": [
    "def missing_value(df):\n",
    "    number = df.isnull().sum().sort_values(ascending=False)\n",
    "    number = number[number > 0]\n",
    "    percentage = df.isnull().sum() *100 / df.shape[0]\n",
    "    percentage = percentage[percentage > 0].sort_values(ascending=False)\n",
    "    return  pd.concat([number,percentage],keys=[\"Total\",\"Percentage\"],axis=1)"
   ]
  },
  {
   "cell_type": "code",
   "execution_count": 155,
   "id": "8c34cdcc-679c-4249-a547-84d3cd4f0411",
   "metadata": {},
   "outputs": [
    {
     "data": {
      "text/html": [
       "<div>\n",
       "<style scoped>\n",
       "    .dataframe tbody tr th:only-of-type {\n",
       "        vertical-align: middle;\n",
       "    }\n",
       "\n",
       "    .dataframe tbody tr th {\n",
       "        vertical-align: top;\n",
       "    }\n",
       "\n",
       "    .dataframe thead th {\n",
       "        text-align: right;\n",
       "    }\n",
       "</style>\n",
       "<table border=\"1\" class=\"dataframe\">\n",
       "  <thead>\n",
       "    <tr style=\"text-align: right;\">\n",
       "      <th></th>\n",
       "      <th>Total</th>\n",
       "      <th>Percentage</th>\n",
       "    </tr>\n",
       "  </thead>\n",
       "  <tbody>\n",
       "    <tr>\n",
       "      <th>PoolQC</th>\n",
       "      <td>2909</td>\n",
       "      <td>99.657417</td>\n",
       "    </tr>\n",
       "    <tr>\n",
       "      <th>MiscFeature</th>\n",
       "      <td>2814</td>\n",
       "      <td>96.402878</td>\n",
       "    </tr>\n",
       "    <tr>\n",
       "      <th>Alley</th>\n",
       "      <td>2721</td>\n",
       "      <td>93.216855</td>\n",
       "    </tr>\n",
       "    <tr>\n",
       "      <th>Fence</th>\n",
       "      <td>2348</td>\n",
       "      <td>80.438506</td>\n",
       "    </tr>\n",
       "    <tr>\n",
       "      <th>SalePrice</th>\n",
       "      <td>1459</td>\n",
       "      <td>49.982871</td>\n",
       "    </tr>\n",
       "    <tr>\n",
       "      <th>FireplaceQu</th>\n",
       "      <td>1420</td>\n",
       "      <td>48.646797</td>\n",
       "    </tr>\n",
       "    <tr>\n",
       "      <th>LotFrontage</th>\n",
       "      <td>486</td>\n",
       "      <td>16.649538</td>\n",
       "    </tr>\n",
       "    <tr>\n",
       "      <th>GarageFinish</th>\n",
       "      <td>159</td>\n",
       "      <td>5.447071</td>\n",
       "    </tr>\n",
       "    <tr>\n",
       "      <th>GarageYrBlt</th>\n",
       "      <td>159</td>\n",
       "      <td>5.447071</td>\n",
       "    </tr>\n",
       "    <tr>\n",
       "      <th>GarageCond</th>\n",
       "      <td>159</td>\n",
       "      <td>5.447071</td>\n",
       "    </tr>\n",
       "    <tr>\n",
       "      <th>GarageQual</th>\n",
       "      <td>159</td>\n",
       "      <td>5.447071</td>\n",
       "    </tr>\n",
       "    <tr>\n",
       "      <th>GarageType</th>\n",
       "      <td>157</td>\n",
       "      <td>5.378554</td>\n",
       "    </tr>\n",
       "    <tr>\n",
       "      <th>BsmtCond</th>\n",
       "      <td>82</td>\n",
       "      <td>2.809181</td>\n",
       "    </tr>\n",
       "    <tr>\n",
       "      <th>BsmtExposure</th>\n",
       "      <td>82</td>\n",
       "      <td>2.809181</td>\n",
       "    </tr>\n",
       "    <tr>\n",
       "      <th>BsmtQual</th>\n",
       "      <td>81</td>\n",
       "      <td>2.774923</td>\n",
       "    </tr>\n",
       "    <tr>\n",
       "      <th>BsmtFinType2</th>\n",
       "      <td>80</td>\n",
       "      <td>2.740665</td>\n",
       "    </tr>\n",
       "    <tr>\n",
       "      <th>BsmtFinType1</th>\n",
       "      <td>79</td>\n",
       "      <td>2.706406</td>\n",
       "    </tr>\n",
       "    <tr>\n",
       "      <th>MasVnrType</th>\n",
       "      <td>24</td>\n",
       "      <td>0.822199</td>\n",
       "    </tr>\n",
       "    <tr>\n",
       "      <th>MasVnrArea</th>\n",
       "      <td>23</td>\n",
       "      <td>0.787941</td>\n",
       "    </tr>\n",
       "    <tr>\n",
       "      <th>MSZoning</th>\n",
       "      <td>4</td>\n",
       "      <td>0.137033</td>\n",
       "    </tr>\n",
       "    <tr>\n",
       "      <th>Utilities</th>\n",
       "      <td>2</td>\n",
       "      <td>0.068517</td>\n",
       "    </tr>\n",
       "    <tr>\n",
       "      <th>Functional</th>\n",
       "      <td>2</td>\n",
       "      <td>0.068517</td>\n",
       "    </tr>\n",
       "    <tr>\n",
       "      <th>BsmtFullBath</th>\n",
       "      <td>2</td>\n",
       "      <td>0.068517</td>\n",
       "    </tr>\n",
       "    <tr>\n",
       "      <th>BsmtFinSF1</th>\n",
       "      <td>1</td>\n",
       "      <td>0.034258</td>\n",
       "    </tr>\n",
       "    <tr>\n",
       "      <th>GarageCars</th>\n",
       "      <td>1</td>\n",
       "      <td>0.034258</td>\n",
       "    </tr>\n",
       "    <tr>\n",
       "      <th>GarageArea</th>\n",
       "      <td>1</td>\n",
       "      <td>0.034258</td>\n",
       "    </tr>\n",
       "    <tr>\n",
       "      <th>Electrical</th>\n",
       "      <td>1</td>\n",
       "      <td>0.034258</td>\n",
       "    </tr>\n",
       "    <tr>\n",
       "      <th>KitchenQual</th>\n",
       "      <td>1</td>\n",
       "      <td>0.034258</td>\n",
       "    </tr>\n",
       "    <tr>\n",
       "      <th>SaleType</th>\n",
       "      <td>1</td>\n",
       "      <td>0.034258</td>\n",
       "    </tr>\n",
       "    <tr>\n",
       "      <th>TotalBsmtSF</th>\n",
       "      <td>1</td>\n",
       "      <td>0.034258</td>\n",
       "    </tr>\n",
       "    <tr>\n",
       "      <th>BsmtUnfSF</th>\n",
       "      <td>1</td>\n",
       "      <td>0.034258</td>\n",
       "    </tr>\n",
       "    <tr>\n",
       "      <th>Exterior2nd</th>\n",
       "      <td>1</td>\n",
       "      <td>0.034258</td>\n",
       "    </tr>\n",
       "    <tr>\n",
       "      <th>Exterior1st</th>\n",
       "      <td>1</td>\n",
       "      <td>0.034258</td>\n",
       "    </tr>\n",
       "  </tbody>\n",
       "</table>\n",
       "</div>"
      ],
      "text/plain": [
       "              Total  Percentage\n",
       "PoolQC         2909   99.657417\n",
       "MiscFeature    2814   96.402878\n",
       "Alley          2721   93.216855\n",
       "Fence          2348   80.438506\n",
       "SalePrice      1459   49.982871\n",
       "FireplaceQu    1420   48.646797\n",
       "LotFrontage     486   16.649538\n",
       "GarageFinish    159    5.447071\n",
       "GarageYrBlt     159    5.447071\n",
       "GarageCond      159    5.447071\n",
       "GarageQual      159    5.447071\n",
       "GarageType      157    5.378554\n",
       "BsmtCond         82    2.809181\n",
       "BsmtExposure     82    2.809181\n",
       "BsmtQual         81    2.774923\n",
       "BsmtFinType2     80    2.740665\n",
       "BsmtFinType1     79    2.706406\n",
       "MasVnrType       24    0.822199\n",
       "MasVnrArea       23    0.787941\n",
       "MSZoning          4    0.137033\n",
       "Utilities         2    0.068517\n",
       "Functional        2    0.068517\n",
       "BsmtFullBath      2    0.068517\n",
       "BsmtFinSF1        1    0.034258\n",
       "GarageCars        1    0.034258\n",
       "GarageArea        1    0.034258\n",
       "Electrical        1    0.034258\n",
       "KitchenQual       1    0.034258\n",
       "SaleType          1    0.034258\n",
       "TotalBsmtSF       1    0.034258\n",
       "BsmtUnfSF         1    0.034258\n",
       "Exterior2nd       1    0.034258\n",
       "Exterior1st       1    0.034258"
      ]
     },
     "execution_count": 155,
     "metadata": {},
     "output_type": "execute_result"
    }
   ],
   "source": [
    "missing_value(full_data)"
   ]
  },
  {
   "cell_type": "code",
   "execution_count": 156,
   "id": "988f4166-ff13-49f0-a10c-8d1e20c22b97",
   "metadata": {},
   "outputs": [],
   "source": [
    "## Features with more than 90% of values missing:\n",
    "## PoolQC, MiscFeature, Alley\n",
    "### Droping PoolQC, MiscFeature and Alley\n",
    "full_data.drop(['PoolQC','MiscFeature','Alley'],axis=1,inplace=True)"
   ]
  },
  {
   "cell_type": "code",
   "execution_count": 157,
   "id": "c970f564-4a8a-471c-98e1-e91fc26582e3",
   "metadata": {
    "tags": []
   },
   "outputs": [
    {
     "data": {
      "text/plain": [
       "(2919, 66)"
      ]
     },
     "execution_count": 157,
     "metadata": {},
     "output_type": "execute_result"
    }
   ],
   "source": [
    "full_data.shape"
   ]
  },
  {
   "cell_type": "code",
   "execution_count": 158,
   "id": "9b6e8119-cd5f-428a-91cc-c320bb22ac9c",
   "metadata": {},
   "outputs": [],
   "source": [
    "ordi.remove('PoolQC')"
   ]
  },
  {
   "cell_type": "code",
   "execution_count": 159,
   "id": "e0da1941-271e-4074-9650-7a1046db3ca9",
   "metadata": {},
   "outputs": [],
   "source": [
    "nomi.remove('MiscFeature')\n",
    "nomi.remove('Alley')"
   ]
  },
  {
   "cell_type": "markdown",
   "id": "5d9577b5-7ae1-4007-b220-51f8b7d15af3",
   "metadata": {},
   "source": [
    "### Multicolinearity - numerical features"
   ]
  },
  {
   "cell_type": "markdown",
   "id": "f5b58c3b-50b7-4394-9ef1-a4ec8973c238",
   "metadata": {},
   "source": [
    "From the results of correlation matrix between numerical features and their correlation with the target features the following ones were removed:"
   ]
  },
  {
   "cell_type": "code",
   "execution_count": 160,
   "id": "b4f394cb-7b8a-4d4f-88a8-cc9e44d723ca",
   "metadata": {},
   "outputs": [],
   "source": [
    "full_data.drop(['GarageCars','GarageYrBlt','TotRmsAbvGrd','1stFlrSF'],axis=1,inplace=True)"
   ]
  },
  {
   "cell_type": "code",
   "execution_count": 161,
   "id": "f37bb1cc-f57a-4084-9961-87709893ef1c",
   "metadata": {},
   "outputs": [],
   "source": [
    "disc.remove('TotRmsAbvGrd')\n",
    "disc.remove('GarageCars')"
   ]
  },
  {
   "cell_type": "code",
   "execution_count": 162,
   "id": "74151512-35b8-4e7a-9831-1fcf06b14ca2",
   "metadata": {},
   "outputs": [],
   "source": [
    "cont.remove('1stFlrSF')\n",
    "cont.remove('GarageYrBlt')"
   ]
  },
  {
   "cell_type": "code",
   "execution_count": 163,
   "id": "0803217d-7946-4218-b13c-0870d96b80c7",
   "metadata": {},
   "outputs": [
    {
     "data": {
      "text/plain": [
       "(2919, 62)"
      ]
     },
     "execution_count": 163,
     "metadata": {},
     "output_type": "execute_result"
    }
   ],
   "source": [
    "full_data.shape"
   ]
  },
  {
   "cell_type": "markdown",
   "id": "5e2aaea3-edf4-4ae9-8d64-c50cec8b97f8",
   "metadata": {
    "tags": []
   },
   "source": [
    "### Missing values - continuous features"
   ]
  },
  {
   "cell_type": "code",
   "execution_count": 164,
   "id": "31bece77-fe55-4cd4-a7d1-21d5bf9a31f4",
   "metadata": {},
   "outputs": [
    {
     "data": {
      "text/html": [
       "<div>\n",
       "<style scoped>\n",
       "    .dataframe tbody tr th:only-of-type {\n",
       "        vertical-align: middle;\n",
       "    }\n",
       "\n",
       "    .dataframe tbody tr th {\n",
       "        vertical-align: top;\n",
       "    }\n",
       "\n",
       "    .dataframe thead th {\n",
       "        text-align: right;\n",
       "    }\n",
       "</style>\n",
       "<table border=\"1\" class=\"dataframe\">\n",
       "  <thead>\n",
       "    <tr style=\"text-align: right;\">\n",
       "      <th></th>\n",
       "      <th>Total</th>\n",
       "      <th>Percentage</th>\n",
       "    </tr>\n",
       "  </thead>\n",
       "  <tbody>\n",
       "    <tr>\n",
       "      <th>LotFrontage</th>\n",
       "      <td>486</td>\n",
       "      <td>16.649538</td>\n",
       "    </tr>\n",
       "    <tr>\n",
       "      <th>MasVnrArea</th>\n",
       "      <td>23</td>\n",
       "      <td>0.787941</td>\n",
       "    </tr>\n",
       "    <tr>\n",
       "      <th>BsmtFinSF1</th>\n",
       "      <td>1</td>\n",
       "      <td>0.034258</td>\n",
       "    </tr>\n",
       "    <tr>\n",
       "      <th>BsmtUnfSF</th>\n",
       "      <td>1</td>\n",
       "      <td>0.034258</td>\n",
       "    </tr>\n",
       "    <tr>\n",
       "      <th>TotalBsmtSF</th>\n",
       "      <td>1</td>\n",
       "      <td>0.034258</td>\n",
       "    </tr>\n",
       "    <tr>\n",
       "      <th>GarageArea</th>\n",
       "      <td>1</td>\n",
       "      <td>0.034258</td>\n",
       "    </tr>\n",
       "  </tbody>\n",
       "</table>\n",
       "</div>"
      ],
      "text/plain": [
       "             Total  Percentage\n",
       "LotFrontage    486   16.649538\n",
       "MasVnrArea      23    0.787941\n",
       "BsmtFinSF1       1    0.034258\n",
       "BsmtUnfSF        1    0.034258\n",
       "TotalBsmtSF      1    0.034258\n",
       "GarageArea       1    0.034258"
      ]
     },
     "execution_count": 164,
     "metadata": {},
     "output_type": "execute_result"
    }
   ],
   "source": [
    "missing_value(full_data[cont])"
   ]
  },
  {
   "cell_type": "code",
   "execution_count": 165,
   "id": "226d81b3-ca8e-4a1b-a2f7-e6e75ba8b924",
   "metadata": {},
   "outputs": [],
   "source": [
    "# LotFrontage - missing values imputed using median of Neighborhood\n",
    "full_data['LotFrontage'] = full_data.groupby('Neighborhood')['LotFrontage'].transform(lambda x: x.fillna(x.median()))"
   ]
  },
  {
   "cell_type": "code",
   "execution_count": 166,
   "id": "13de754c-1c35-4cdd-ab06-90b0dd5f4e7f",
   "metadata": {},
   "outputs": [],
   "source": [
    "# MasVnrArea - missing values imputed using mode\n",
    "full_data['MasVnrArea'] = full_data['MasVnrArea'].fillna(sts.mode(full_data['MasVnrArea']))"
   ]
  },
  {
   "cell_type": "code",
   "execution_count": 167,
   "id": "84d4eaff-b68e-4a70-bbcb-c328cdff9ad7",
   "metadata": {},
   "outputs": [],
   "source": [
    "# GarageArea - missing values imputed using mean value\n",
    "full_data['GarageArea'] = full_data['GarageArea'].fillna(full_data['GarageArea'].mean())"
   ]
  },
  {
   "cell_type": "code",
   "execution_count": 168,
   "id": "7ff1355f-d8da-41e2-af27-2684f9362c65",
   "metadata": {},
   "outputs": [],
   "source": [
    "# BsmtFinSF1 - missing values imputed using mode value\n",
    "full_data['BsmtFinSF1'] = full_data['BsmtFinSF1'].fillna(sts.mode(full_data['BsmtFinSF1']))"
   ]
  },
  {
   "cell_type": "code",
   "execution_count": 169,
   "id": "99ce678f-7e88-4999-b949-81f3f0271471",
   "metadata": {},
   "outputs": [],
   "source": [
    "# BsmtUnfSF - missing values imputed using median value\n",
    "full_data['BsmtUnfSF'] = full_data['BsmtUnfSF'].fillna(full_data['BsmtUnfSF'].median())"
   ]
  },
  {
   "cell_type": "code",
   "execution_count": 170,
   "id": "5b0f472f-71f6-47d5-9af5-ce2754fb6356",
   "metadata": {},
   "outputs": [],
   "source": [
    "# TotalBsmtSF - missing values imputed using mean value\n",
    "full_data['TotalBsmtSF'] = full_data['TotalBsmtSF'].fillna(full_data['TotalBsmtSF'].mean())"
   ]
  },
  {
   "cell_type": "markdown",
   "id": "fd5a5346-4855-492c-bdd0-db7bfa3a67cb",
   "metadata": {},
   "source": [
    "### Missing values - discrete features"
   ]
  },
  {
   "cell_type": "code",
   "execution_count": 171,
   "id": "bfae7e3b-3f88-472d-aad5-ae6d696cbbf4",
   "metadata": {},
   "outputs": [
    {
     "data": {
      "text/html": [
       "<div>\n",
       "<style scoped>\n",
       "    .dataframe tbody tr th:only-of-type {\n",
       "        vertical-align: middle;\n",
       "    }\n",
       "\n",
       "    .dataframe tbody tr th {\n",
       "        vertical-align: top;\n",
       "    }\n",
       "\n",
       "    .dataframe thead th {\n",
       "        text-align: right;\n",
       "    }\n",
       "</style>\n",
       "<table border=\"1\" class=\"dataframe\">\n",
       "  <thead>\n",
       "    <tr style=\"text-align: right;\">\n",
       "      <th></th>\n",
       "      <th>Total</th>\n",
       "      <th>Percentage</th>\n",
       "    </tr>\n",
       "  </thead>\n",
       "  <tbody>\n",
       "    <tr>\n",
       "      <th>BsmtFullBath</th>\n",
       "      <td>2</td>\n",
       "      <td>0.068517</td>\n",
       "    </tr>\n",
       "  </tbody>\n",
       "</table>\n",
       "</div>"
      ],
      "text/plain": [
       "              Total  Percentage\n",
       "BsmtFullBath      2    0.068517"
      ]
     },
     "execution_count": 171,
     "metadata": {},
     "output_type": "execute_result"
    }
   ],
   "source": [
    "missing_value(full_data[disc])"
   ]
  },
  {
   "cell_type": "code",
   "execution_count": 172,
   "id": "6f292485-e5c0-43a8-a7f9-815ffb4e0ac3",
   "metadata": {},
   "outputs": [],
   "source": [
    "# BsmtFullBath - missing values imputed using mode value\n",
    "full_data['BsmtFullBath'] = full_data['BsmtFullBath'].fillna(sts.mode(full_data['BsmtFullBath']))"
   ]
  },
  {
   "cell_type": "markdown",
   "id": "fd465fd8-7a39-4d2e-9636-25d24fad899d",
   "metadata": {},
   "source": [
    "### Missing values - nominal features"
   ]
  },
  {
   "cell_type": "code",
   "execution_count": 173,
   "id": "4c668e33-a023-4f14-ba1f-546cf36e3758",
   "metadata": {},
   "outputs": [
    {
     "data": {
      "text/html": [
       "<div>\n",
       "<style scoped>\n",
       "    .dataframe tbody tr th:only-of-type {\n",
       "        vertical-align: middle;\n",
       "    }\n",
       "\n",
       "    .dataframe tbody tr th {\n",
       "        vertical-align: top;\n",
       "    }\n",
       "\n",
       "    .dataframe thead th {\n",
       "        text-align: right;\n",
       "    }\n",
       "</style>\n",
       "<table border=\"1\" class=\"dataframe\">\n",
       "  <thead>\n",
       "    <tr style=\"text-align: right;\">\n",
       "      <th></th>\n",
       "      <th>Total</th>\n",
       "      <th>Percentage</th>\n",
       "    </tr>\n",
       "  </thead>\n",
       "  <tbody>\n",
       "    <tr>\n",
       "      <th>GarageFinish</th>\n",
       "      <td>159</td>\n",
       "      <td>5.447071</td>\n",
       "    </tr>\n",
       "    <tr>\n",
       "      <th>GarageType</th>\n",
       "      <td>157</td>\n",
       "      <td>5.378554</td>\n",
       "    </tr>\n",
       "    <tr>\n",
       "      <th>MasVnrType</th>\n",
       "      <td>24</td>\n",
       "      <td>0.822199</td>\n",
       "    </tr>\n",
       "    <tr>\n",
       "      <th>MSZoning</th>\n",
       "      <td>4</td>\n",
       "      <td>0.137033</td>\n",
       "    </tr>\n",
       "    <tr>\n",
       "      <th>Utilities</th>\n",
       "      <td>2</td>\n",
       "      <td>0.068517</td>\n",
       "    </tr>\n",
       "    <tr>\n",
       "      <th>Functional</th>\n",
       "      <td>2</td>\n",
       "      <td>0.068517</td>\n",
       "    </tr>\n",
       "    <tr>\n",
       "      <th>Exterior2nd</th>\n",
       "      <td>1</td>\n",
       "      <td>0.034258</td>\n",
       "    </tr>\n",
       "    <tr>\n",
       "      <th>SaleType</th>\n",
       "      <td>1</td>\n",
       "      <td>0.034258</td>\n",
       "    </tr>\n",
       "    <tr>\n",
       "      <th>Electrical</th>\n",
       "      <td>1</td>\n",
       "      <td>0.034258</td>\n",
       "    </tr>\n",
       "    <tr>\n",
       "      <th>Exterior1st</th>\n",
       "      <td>1</td>\n",
       "      <td>0.034258</td>\n",
       "    </tr>\n",
       "  </tbody>\n",
       "</table>\n",
       "</div>"
      ],
      "text/plain": [
       "              Total  Percentage\n",
       "GarageFinish    159    5.447071\n",
       "GarageType      157    5.378554\n",
       "MasVnrType       24    0.822199\n",
       "MSZoning          4    0.137033\n",
       "Utilities         2    0.068517\n",
       "Functional        2    0.068517\n",
       "Exterior2nd       1    0.034258\n",
       "SaleType          1    0.034258\n",
       "Electrical        1    0.034258\n",
       "Exterior1st       1    0.034258"
      ]
     },
     "execution_count": 173,
     "metadata": {},
     "output_type": "execute_result"
    }
   ],
   "source": [
    "missing_value(full_data[nomi])"
   ]
  },
  {
   "cell_type": "code",
   "execution_count": 174,
   "id": "41f77599-9635-40dc-a558-120e4c60e7ee",
   "metadata": {},
   "outputs": [],
   "source": [
    "lst = list(missing_value(full_data[nomi]).index)"
   ]
  },
  {
   "cell_type": "code",
   "execution_count": 175,
   "id": "8d9d3e41-4355-4a8b-b75d-2a3cc6e8ecb6",
   "metadata": {},
   "outputs": [],
   "source": [
    "full_data[lst] = full_data[lst].transform(lambda x : x.fillna(x.mode()[0]))"
   ]
  },
  {
   "cell_type": "markdown",
   "id": "0228b2d7-8d60-4a47-995b-a35d2192c72c",
   "metadata": {},
   "source": [
    "____"
   ]
  },
  {
   "cell_type": "markdown",
   "id": "bf929102-82f6-44ad-9dcc-8ec68740f5e4",
   "metadata": {},
   "source": [
    "### Missing Values - ordinal variables"
   ]
  },
  {
   "cell_type": "code",
   "execution_count": 176,
   "id": "bb1d20af-f765-4602-993b-54b08f70b0d2",
   "metadata": {},
   "outputs": [
    {
     "data": {
      "text/html": [
       "<div>\n",
       "<style scoped>\n",
       "    .dataframe tbody tr th:only-of-type {\n",
       "        vertical-align: middle;\n",
       "    }\n",
       "\n",
       "    .dataframe tbody tr th {\n",
       "        vertical-align: top;\n",
       "    }\n",
       "\n",
       "    .dataframe thead th {\n",
       "        text-align: right;\n",
       "    }\n",
       "</style>\n",
       "<table border=\"1\" class=\"dataframe\">\n",
       "  <thead>\n",
       "    <tr style=\"text-align: right;\">\n",
       "      <th></th>\n",
       "      <th>Total</th>\n",
       "      <th>Percentage</th>\n",
       "    </tr>\n",
       "  </thead>\n",
       "  <tbody>\n",
       "    <tr>\n",
       "      <th>Fence</th>\n",
       "      <td>2348</td>\n",
       "      <td>80.438506</td>\n",
       "    </tr>\n",
       "    <tr>\n",
       "      <th>FireplaceQu</th>\n",
       "      <td>1420</td>\n",
       "      <td>48.646797</td>\n",
       "    </tr>\n",
       "    <tr>\n",
       "      <th>GarageQual</th>\n",
       "      <td>159</td>\n",
       "      <td>5.447071</td>\n",
       "    </tr>\n",
       "    <tr>\n",
       "      <th>GarageCond</th>\n",
       "      <td>159</td>\n",
       "      <td>5.447071</td>\n",
       "    </tr>\n",
       "    <tr>\n",
       "      <th>BsmtCond</th>\n",
       "      <td>82</td>\n",
       "      <td>2.809181</td>\n",
       "    </tr>\n",
       "    <tr>\n",
       "      <th>BsmtExposure</th>\n",
       "      <td>82</td>\n",
       "      <td>2.809181</td>\n",
       "    </tr>\n",
       "    <tr>\n",
       "      <th>BsmtQual</th>\n",
       "      <td>81</td>\n",
       "      <td>2.774923</td>\n",
       "    </tr>\n",
       "    <tr>\n",
       "      <th>BsmtFinType2</th>\n",
       "      <td>80</td>\n",
       "      <td>2.740665</td>\n",
       "    </tr>\n",
       "    <tr>\n",
       "      <th>BsmtFinType1</th>\n",
       "      <td>79</td>\n",
       "      <td>2.706406</td>\n",
       "    </tr>\n",
       "    <tr>\n",
       "      <th>KitchenQual</th>\n",
       "      <td>1</td>\n",
       "      <td>0.034258</td>\n",
       "    </tr>\n",
       "  </tbody>\n",
       "</table>\n",
       "</div>"
      ],
      "text/plain": [
       "              Total  Percentage\n",
       "Fence          2348   80.438506\n",
       "FireplaceQu    1420   48.646797\n",
       "GarageQual      159    5.447071\n",
       "GarageCond      159    5.447071\n",
       "BsmtCond         82    2.809181\n",
       "BsmtExposure     82    2.809181\n",
       "BsmtQual         81    2.774923\n",
       "BsmtFinType2     80    2.740665\n",
       "BsmtFinType1     79    2.706406\n",
       "KitchenQual       1    0.034258"
      ]
     },
     "execution_count": 176,
     "metadata": {},
     "output_type": "execute_result"
    }
   ],
   "source": [
    "missing_value(full_data[ordi])"
   ]
  },
  {
   "cell_type": "code",
   "execution_count": 177,
   "id": "100dba8e-08c3-45a5-ab0c-20a0af1eca3c",
   "metadata": {},
   "outputs": [],
   "source": [
    "lst2 = list(missing_value(full_data[ordi]).index)"
   ]
  },
  {
   "cell_type": "code",
   "execution_count": 178,
   "id": "e8055df6-2868-4197-9c13-865c1cd46b39",
   "metadata": {},
   "outputs": [],
   "source": [
    "full_data[lst2] = full_data[lst2].fillna(\"NA\")"
   ]
  },
  {
   "cell_type": "markdown",
   "id": "459e3508-bd76-442e-800a-b318d289f01a",
   "metadata": {},
   "source": [
    "### Categorical features with single classes"
   ]
  },
  {
   "cell_type": "code",
   "execution_count": 179,
   "id": "19970194-0ee4-4414-84bc-9b6755288244",
   "metadata": {},
   "outputs": [],
   "source": [
    "singlers_ordi = []\n",
    "for i in ordi:\n",
    "    counts = train[i].value_counts()\n",
    "    zeros = counts.iloc[0]\n",
    "    if zeros / len(train) * 100 > 90:\n",
    "        singlers_ordi.append(i)\n",
    "\n",
    "singlers_ordi = list(singlers_ordi)"
   ]
  },
  {
   "cell_type": "code",
   "execution_count": 180,
   "id": "2c330c44-3127-46db-ac2d-a4232258cdea",
   "metadata": {},
   "outputs": [
    {
     "data": {
      "text/plain": [
       "['GarageCond']"
      ]
     },
     "execution_count": 180,
     "metadata": {},
     "output_type": "execute_result"
    }
   ],
   "source": [
    "singlers_ordi"
   ]
  },
  {
   "cell_type": "code",
   "execution_count": 181,
   "id": "ff70824e-db1a-406b-b172-bd6475256c4a",
   "metadata": {},
   "outputs": [
    {
     "data": {
      "text/html": [
       "<div>\n",
       "<style scoped>\n",
       "    .dataframe tbody tr th:only-of-type {\n",
       "        vertical-align: middle;\n",
       "    }\n",
       "\n",
       "    .dataframe tbody tr th {\n",
       "        vertical-align: top;\n",
       "    }\n",
       "\n",
       "    .dataframe thead th {\n",
       "        text-align: right;\n",
       "    }\n",
       "</style>\n",
       "<table border=\"1\" class=\"dataframe\">\n",
       "  <thead>\n",
       "    <tr style=\"text-align: right;\">\n",
       "      <th></th>\n",
       "      <th>count</th>\n",
       "      <th>%</th>\n",
       "    </tr>\n",
       "  </thead>\n",
       "  <tbody>\n",
       "    <tr>\n",
       "      <th>TA</th>\n",
       "      <td>1326</td>\n",
       "      <td>90.821918</td>\n",
       "    </tr>\n",
       "    <tr>\n",
       "      <th>Fa</th>\n",
       "      <td>35</td>\n",
       "      <td>2.397260</td>\n",
       "    </tr>\n",
       "    <tr>\n",
       "      <th>Gd</th>\n",
       "      <td>9</td>\n",
       "      <td>0.616438</td>\n",
       "    </tr>\n",
       "    <tr>\n",
       "      <th>Po</th>\n",
       "      <td>7</td>\n",
       "      <td>0.479452</td>\n",
       "    </tr>\n",
       "    <tr>\n",
       "      <th>Ex</th>\n",
       "      <td>2</td>\n",
       "      <td>0.136986</td>\n",
       "    </tr>\n",
       "  </tbody>\n",
       "</table>\n",
       "</div>"
      ],
      "text/plain": [
       "    count          %\n",
       "TA   1326  90.821918\n",
       "Fa     35   2.397260\n",
       "Gd      9   0.616438\n",
       "Po      7   0.479452\n",
       "Ex      2   0.136986"
      ]
     },
     "execution_count": 181,
     "metadata": {},
     "output_type": "execute_result"
    }
   ],
   "source": [
    "pd.DataFrame({'count': train['GarageCond'].dropna().value_counts(), \n",
    "                  '%': train['GarageCond'].dropna().value_counts()/len(train)*100})"
   ]
  },
  {
   "cell_type": "code",
   "execution_count": 182,
   "id": "735213dc-615d-4f3f-86ef-6dcc3e9f9d91",
   "metadata": {},
   "outputs": [
    {
     "data": {
      "text/plain": [
       "81"
      ]
     },
     "execution_count": 182,
     "metadata": {},
     "output_type": "execute_result"
    }
   ],
   "source": [
    "train['GarageCond'].isnull().sum()"
   ]
  },
  {
   "cell_type": "code",
   "execution_count": 183,
   "id": "fc21922d-1b79-463f-8e1b-1a40bd65a03c",
   "metadata": {},
   "outputs": [],
   "source": [
    "# Dropping GarageCond as 90% of its non NA values are in a single class\n",
    "full_data.drop('GarageCond', axis=1, inplace=True)"
   ]
  },
  {
   "cell_type": "code",
   "execution_count": 184,
   "id": "c243370f-a95d-46a6-bb94-79cc3d1c7510",
   "metadata": {},
   "outputs": [
    {
     "data": {
      "text/plain": [
       "(2919, 61)"
      ]
     },
     "execution_count": 184,
     "metadata": {},
     "output_type": "execute_result"
    }
   ],
   "source": [
    "full_data.shape"
   ]
  },
  {
   "cell_type": "code",
   "execution_count": 185,
   "id": "d76a7a21-67f3-4942-abca-ec4a7ec81716",
   "metadata": {},
   "outputs": [],
   "source": [
    "ordi.remove('GarageCond')"
   ]
  },
  {
   "cell_type": "code",
   "execution_count": 186,
   "id": "3879b928-9216-48f7-b406-964b450e8e7f",
   "metadata": {},
   "outputs": [],
   "source": [
    "singlers_nomi = []\n",
    "for i in nomi:\n",
    "    counts = train[i].value_counts()\n",
    "    zeros = counts.iloc[0]\n",
    "    if zeros / len(train) * 100 > 95:\n",
    "        singlers_nomi.append(i)\n",
    "\n",
    "singlers_nomi = list(singlers_nomi)"
   ]
  },
  {
   "cell_type": "code",
   "execution_count": 187,
   "id": "ff71b232-7c98-4a5e-9def-290bc0404b4c",
   "metadata": {},
   "outputs": [
    {
     "data": {
      "text/plain": [
       "['Street', 'Utilities', 'Condition2', 'RoofMatl', 'Heating']"
      ]
     },
     "execution_count": 187,
     "metadata": {},
     "output_type": "execute_result"
    }
   ],
   "source": [
    "singlers_nomi"
   ]
  },
  {
   "cell_type": "code",
   "execution_count": 188,
   "id": "d4a0cad0-28bc-4a24-8ac5-8721b2eaa20e",
   "metadata": {},
   "outputs": [
    {
     "data": {
      "text/html": [
       "<div>\n",
       "<style scoped>\n",
       "    .dataframe tbody tr th:only-of-type {\n",
       "        vertical-align: middle;\n",
       "    }\n",
       "\n",
       "    .dataframe tbody tr th {\n",
       "        vertical-align: top;\n",
       "    }\n",
       "\n",
       "    .dataframe thead th {\n",
       "        text-align: right;\n",
       "    }\n",
       "</style>\n",
       "<table border=\"1\" class=\"dataframe\">\n",
       "  <thead>\n",
       "    <tr style=\"text-align: right;\">\n",
       "      <th></th>\n",
       "      <th>count</th>\n",
       "      <th>%</th>\n",
       "    </tr>\n",
       "  </thead>\n",
       "  <tbody>\n",
       "    <tr>\n",
       "      <th>Pave</th>\n",
       "      <td>1454</td>\n",
       "      <td>99.589041</td>\n",
       "    </tr>\n",
       "    <tr>\n",
       "      <th>Grvl</th>\n",
       "      <td>6</td>\n",
       "      <td>0.410959</td>\n",
       "    </tr>\n",
       "  </tbody>\n",
       "</table>\n",
       "</div>"
      ],
      "text/plain": [
       "      count          %\n",
       "Pave   1454  99.589041\n",
       "Grvl      6   0.410959"
      ]
     },
     "execution_count": 188,
     "metadata": {},
     "output_type": "execute_result"
    }
   ],
   "source": [
    "pd.DataFrame({'count': train['Street'].value_counts(), \n",
    "                  '%': train['Street'].value_counts()/len(train)*100})"
   ]
  },
  {
   "cell_type": "code",
   "execution_count": 189,
   "id": "e07ea2ae-c50d-4fc4-ab01-459116ef9c9c",
   "metadata": {},
   "outputs": [
    {
     "data": {
      "text/html": [
       "<div>\n",
       "<style scoped>\n",
       "    .dataframe tbody tr th:only-of-type {\n",
       "        vertical-align: middle;\n",
       "    }\n",
       "\n",
       "    .dataframe tbody tr th {\n",
       "        vertical-align: top;\n",
       "    }\n",
       "\n",
       "    .dataframe thead th {\n",
       "        text-align: right;\n",
       "    }\n",
       "</style>\n",
       "<table border=\"1\" class=\"dataframe\">\n",
       "  <thead>\n",
       "    <tr style=\"text-align: right;\">\n",
       "      <th></th>\n",
       "      <th>count</th>\n",
       "      <th>%</th>\n",
       "    </tr>\n",
       "  </thead>\n",
       "  <tbody>\n",
       "    <tr>\n",
       "      <th>AllPub</th>\n",
       "      <td>1459</td>\n",
       "      <td>99.931507</td>\n",
       "    </tr>\n",
       "    <tr>\n",
       "      <th>NoSeWa</th>\n",
       "      <td>1</td>\n",
       "      <td>0.068493</td>\n",
       "    </tr>\n",
       "  </tbody>\n",
       "</table>\n",
       "</div>"
      ],
      "text/plain": [
       "        count          %\n",
       "AllPub   1459  99.931507\n",
       "NoSeWa      1   0.068493"
      ]
     },
     "execution_count": 189,
     "metadata": {},
     "output_type": "execute_result"
    }
   ],
   "source": [
    "pd.DataFrame({'count': train['Utilities'].value_counts(), \n",
    "                  '%': train['Utilities'].value_counts()/len(train)*100})"
   ]
  },
  {
   "cell_type": "code",
   "execution_count": 190,
   "id": "67b8ea2b-9d77-40e6-bf47-2844b4c7571c",
   "metadata": {},
   "outputs": [
    {
     "data": {
      "text/html": [
       "<div>\n",
       "<style scoped>\n",
       "    .dataframe tbody tr th:only-of-type {\n",
       "        vertical-align: middle;\n",
       "    }\n",
       "\n",
       "    .dataframe tbody tr th {\n",
       "        vertical-align: top;\n",
       "    }\n",
       "\n",
       "    .dataframe thead th {\n",
       "        text-align: right;\n",
       "    }\n",
       "</style>\n",
       "<table border=\"1\" class=\"dataframe\">\n",
       "  <thead>\n",
       "    <tr style=\"text-align: right;\">\n",
       "      <th></th>\n",
       "      <th>count</th>\n",
       "      <th>%</th>\n",
       "    </tr>\n",
       "  </thead>\n",
       "  <tbody>\n",
       "    <tr>\n",
       "      <th>Gtl</th>\n",
       "      <td>1382</td>\n",
       "      <td>94.657534</td>\n",
       "    </tr>\n",
       "    <tr>\n",
       "      <th>Mod</th>\n",
       "      <td>65</td>\n",
       "      <td>4.452055</td>\n",
       "    </tr>\n",
       "    <tr>\n",
       "      <th>Sev</th>\n",
       "      <td>13</td>\n",
       "      <td>0.890411</td>\n",
       "    </tr>\n",
       "  </tbody>\n",
       "</table>\n",
       "</div>"
      ],
      "text/plain": [
       "     count          %\n",
       "Gtl   1382  94.657534\n",
       "Mod     65   4.452055\n",
       "Sev     13   0.890411"
      ]
     },
     "execution_count": 190,
     "metadata": {},
     "output_type": "execute_result"
    }
   ],
   "source": [
    "pd.DataFrame({'count': train['LandSlope'].value_counts(), \n",
    "                  '%': train['LandSlope'].value_counts()/len(train)*100})"
   ]
  },
  {
   "cell_type": "code",
   "execution_count": 191,
   "id": "9cca6f14-51d0-43b8-9b92-4d078174cf2c",
   "metadata": {},
   "outputs": [
    {
     "data": {
      "text/html": [
       "<div>\n",
       "<style scoped>\n",
       "    .dataframe tbody tr th:only-of-type {\n",
       "        vertical-align: middle;\n",
       "    }\n",
       "\n",
       "    .dataframe tbody tr th {\n",
       "        vertical-align: top;\n",
       "    }\n",
       "\n",
       "    .dataframe thead th {\n",
       "        text-align: right;\n",
       "    }\n",
       "</style>\n",
       "<table border=\"1\" class=\"dataframe\">\n",
       "  <thead>\n",
       "    <tr style=\"text-align: right;\">\n",
       "      <th></th>\n",
       "      <th>count</th>\n",
       "      <th>%</th>\n",
       "    </tr>\n",
       "  </thead>\n",
       "  <tbody>\n",
       "    <tr>\n",
       "      <th>Norm</th>\n",
       "      <td>1445</td>\n",
       "      <td>98.972603</td>\n",
       "    </tr>\n",
       "    <tr>\n",
       "      <th>Feedr</th>\n",
       "      <td>6</td>\n",
       "      <td>0.410959</td>\n",
       "    </tr>\n",
       "    <tr>\n",
       "      <th>RRNn</th>\n",
       "      <td>2</td>\n",
       "      <td>0.136986</td>\n",
       "    </tr>\n",
       "    <tr>\n",
       "      <th>PosN</th>\n",
       "      <td>2</td>\n",
       "      <td>0.136986</td>\n",
       "    </tr>\n",
       "    <tr>\n",
       "      <th>Artery</th>\n",
       "      <td>2</td>\n",
       "      <td>0.136986</td>\n",
       "    </tr>\n",
       "    <tr>\n",
       "      <th>RRAe</th>\n",
       "      <td>1</td>\n",
       "      <td>0.068493</td>\n",
       "    </tr>\n",
       "    <tr>\n",
       "      <th>RRAn</th>\n",
       "      <td>1</td>\n",
       "      <td>0.068493</td>\n",
       "    </tr>\n",
       "    <tr>\n",
       "      <th>PosA</th>\n",
       "      <td>1</td>\n",
       "      <td>0.068493</td>\n",
       "    </tr>\n",
       "  </tbody>\n",
       "</table>\n",
       "</div>"
      ],
      "text/plain": [
       "        count          %\n",
       "Norm     1445  98.972603\n",
       "Feedr       6   0.410959\n",
       "RRNn        2   0.136986\n",
       "PosN        2   0.136986\n",
       "Artery      2   0.136986\n",
       "RRAe        1   0.068493\n",
       "RRAn        1   0.068493\n",
       "PosA        1   0.068493"
      ]
     },
     "execution_count": 191,
     "metadata": {},
     "output_type": "execute_result"
    }
   ],
   "source": [
    "pd.DataFrame({'count': train['Condition2'].value_counts(), \n",
    "                  '%': train['Condition2'].value_counts()/len(train)*100})"
   ]
  },
  {
   "cell_type": "code",
   "execution_count": 192,
   "id": "09a4c15c-3e65-44b7-8672-43535304a88b",
   "metadata": {},
   "outputs": [
    {
     "data": {
      "text/html": [
       "<div>\n",
       "<style scoped>\n",
       "    .dataframe tbody tr th:only-of-type {\n",
       "        vertical-align: middle;\n",
       "    }\n",
       "\n",
       "    .dataframe tbody tr th {\n",
       "        vertical-align: top;\n",
       "    }\n",
       "\n",
       "    .dataframe thead th {\n",
       "        text-align: right;\n",
       "    }\n",
       "</style>\n",
       "<table border=\"1\" class=\"dataframe\">\n",
       "  <thead>\n",
       "    <tr style=\"text-align: right;\">\n",
       "      <th></th>\n",
       "      <th>count</th>\n",
       "      <th>%</th>\n",
       "    </tr>\n",
       "  </thead>\n",
       "  <tbody>\n",
       "    <tr>\n",
       "      <th>CompShg</th>\n",
       "      <td>1434</td>\n",
       "      <td>98.219178</td>\n",
       "    </tr>\n",
       "    <tr>\n",
       "      <th>Tar&amp;Grv</th>\n",
       "      <td>11</td>\n",
       "      <td>0.753425</td>\n",
       "    </tr>\n",
       "    <tr>\n",
       "      <th>WdShngl</th>\n",
       "      <td>6</td>\n",
       "      <td>0.410959</td>\n",
       "    </tr>\n",
       "    <tr>\n",
       "      <th>WdShake</th>\n",
       "      <td>5</td>\n",
       "      <td>0.342466</td>\n",
       "    </tr>\n",
       "    <tr>\n",
       "      <th>ClyTile</th>\n",
       "      <td>1</td>\n",
       "      <td>0.068493</td>\n",
       "    </tr>\n",
       "    <tr>\n",
       "      <th>Membran</th>\n",
       "      <td>1</td>\n",
       "      <td>0.068493</td>\n",
       "    </tr>\n",
       "    <tr>\n",
       "      <th>Metal</th>\n",
       "      <td>1</td>\n",
       "      <td>0.068493</td>\n",
       "    </tr>\n",
       "    <tr>\n",
       "      <th>Roll</th>\n",
       "      <td>1</td>\n",
       "      <td>0.068493</td>\n",
       "    </tr>\n",
       "  </tbody>\n",
       "</table>\n",
       "</div>"
      ],
      "text/plain": [
       "         count          %\n",
       "CompShg   1434  98.219178\n",
       "Tar&Grv     11   0.753425\n",
       "WdShngl      6   0.410959\n",
       "WdShake      5   0.342466\n",
       "ClyTile      1   0.068493\n",
       "Membran      1   0.068493\n",
       "Metal        1   0.068493\n",
       "Roll         1   0.068493"
      ]
     },
     "execution_count": 192,
     "metadata": {},
     "output_type": "execute_result"
    }
   ],
   "source": [
    "pd.DataFrame({'count': train['RoofMatl'].value_counts(), \n",
    "                  '%': train['RoofMatl'].value_counts()/len(train)*100})"
   ]
  },
  {
   "cell_type": "code",
   "execution_count": 193,
   "id": "6c7da721-915b-493d-aa77-df15237a423a",
   "metadata": {},
   "outputs": [
    {
     "data": {
      "text/html": [
       "<div>\n",
       "<style scoped>\n",
       "    .dataframe tbody tr th:only-of-type {\n",
       "        vertical-align: middle;\n",
       "    }\n",
       "\n",
       "    .dataframe tbody tr th {\n",
       "        vertical-align: top;\n",
       "    }\n",
       "\n",
       "    .dataframe thead th {\n",
       "        text-align: right;\n",
       "    }\n",
       "</style>\n",
       "<table border=\"1\" class=\"dataframe\">\n",
       "  <thead>\n",
       "    <tr style=\"text-align: right;\">\n",
       "      <th></th>\n",
       "      <th>count</th>\n",
       "      <th>%</th>\n",
       "    </tr>\n",
       "  </thead>\n",
       "  <tbody>\n",
       "    <tr>\n",
       "      <th>GasA</th>\n",
       "      <td>1428</td>\n",
       "      <td>97.808219</td>\n",
       "    </tr>\n",
       "    <tr>\n",
       "      <th>GasW</th>\n",
       "      <td>18</td>\n",
       "      <td>1.232877</td>\n",
       "    </tr>\n",
       "    <tr>\n",
       "      <th>Grav</th>\n",
       "      <td>7</td>\n",
       "      <td>0.479452</td>\n",
       "    </tr>\n",
       "    <tr>\n",
       "      <th>Wall</th>\n",
       "      <td>4</td>\n",
       "      <td>0.273973</td>\n",
       "    </tr>\n",
       "    <tr>\n",
       "      <th>OthW</th>\n",
       "      <td>2</td>\n",
       "      <td>0.136986</td>\n",
       "    </tr>\n",
       "    <tr>\n",
       "      <th>Floor</th>\n",
       "      <td>1</td>\n",
       "      <td>0.068493</td>\n",
       "    </tr>\n",
       "  </tbody>\n",
       "</table>\n",
       "</div>"
      ],
      "text/plain": [
       "       count          %\n",
       "GasA    1428  97.808219\n",
       "GasW      18   1.232877\n",
       "Grav       7   0.479452\n",
       "Wall       4   0.273973\n",
       "OthW       2   0.136986\n",
       "Floor      1   0.068493"
      ]
     },
     "execution_count": 193,
     "metadata": {},
     "output_type": "execute_result"
    }
   ],
   "source": [
    "pd.DataFrame({'count': train['Heating'].value_counts(), \n",
    "                  '%': train['Heating'].value_counts()/len(train)*100})"
   ]
  },
  {
   "cell_type": "code",
   "execution_count": 194,
   "id": "fcb83e33-7108-4f32-b154-a008224f7696",
   "metadata": {},
   "outputs": [],
   "source": [
    "full_data.drop(singlers_nomi,axis=1,inplace=True)"
   ]
  },
  {
   "cell_type": "code",
   "execution_count": 195,
   "id": "03000381-6d29-40e1-9445-2aa1758b4a10",
   "metadata": {},
   "outputs": [
    {
     "data": {
      "text/plain": [
       "(2919, 56)"
      ]
     },
     "execution_count": 195,
     "metadata": {},
     "output_type": "execute_result"
    }
   ],
   "source": [
    "full_data.shape"
   ]
  },
  {
   "cell_type": "code",
   "execution_count": 196,
   "id": "1db3cc65-d58d-4ca7-9c81-3c8718cbf5f6",
   "metadata": {},
   "outputs": [],
   "source": [
    "nomi.remove('Street')\n",
    "nomi.remove('Utilities')\n",
    "nomi.remove('Condition2')\n",
    "nomi.remove('RoofMatl')\n",
    "nomi.remove('Heating')"
   ]
  },
  {
   "cell_type": "markdown",
   "id": "14e479df-b2af-4324-aee2-25ca81993a87",
   "metadata": {},
   "source": [
    "### Mapping ordinal features"
   ]
  },
  {
   "cell_type": "code",
   "execution_count": 197,
   "id": "4cee7e2d-c1e1-4841-ab76-a05c87e1b930",
   "metadata": {},
   "outputs": [],
   "source": [
    "ordinal_map = {'Ex': 5,'Gd': 4, 'TA': 3, 'Fa': 2, 'Po': 1, 'NA':0}\n",
    "ordmap = ['GarageQual', 'FireplaceQu', 'KitchenQual', 'HeatingQC', 'BsmtCond', \n",
    "          'BsmtQual', 'ExterCond', 'ExterQual']\n",
    "\n",
    "for i in ordmap:\n",
    "    full_data[i] = full_data[i].map(ordinal_map)"
   ]
  },
  {
   "cell_type": "code",
   "execution_count": 198,
   "id": "303554a7-4761-4475-9e4a-bd27c16597fc",
   "metadata": {},
   "outputs": [],
   "source": [
    "Bsmt_map = {'GLQ': 6,'ALQ': 5,'BLQ': 4,'Rec': 3,'LwQ': 2,'Unf': 1, 'NA': 0}\n",
    "bsmtmap = ['BsmtFinType2', 'BsmtFinType1']\n",
    "\n",
    "for i in bsmtmap:\n",
    "    full_data[i] = full_data[i].map(Bsmt_map)"
   ]
  },
  {
   "cell_type": "code",
   "execution_count": 199,
   "id": "3d49266a-e846-4b92-b935-54a76b8d8065",
   "metadata": {},
   "outputs": [],
   "source": [
    "expose_map = {'Gd': 4, 'Av': 3, 'Mn': 2, 'No': 1, 'NA': 0}\n",
    "full_data['BsmtExposure'] = full_data['BsmtExposure'].map(expose_map)"
   ]
  },
  {
   "cell_type": "code",
   "execution_count": 200,
   "id": "7d1f9f92-b1e7-4177-88d7-b7e069be5417",
   "metadata": {},
   "outputs": [],
   "source": [
    "fence_map = {'GdPrv': 4,'MnPrv': 3,'GdWo': 2, 'MnWw': 1,'NA': 0}\n",
    "full_data['Fence'] = full_data['Fence'].map(fence_map) "
   ]
  },
  {
   "cell_type": "code",
   "execution_count": 201,
   "id": "50b0dce3-8da6-4b34-a373-4ba5ed4ef103",
   "metadata": {},
   "outputs": [
    {
     "data": {
      "text/plain": [
       "(2919, 56)"
      ]
     },
     "execution_count": 201,
     "metadata": {},
     "output_type": "execute_result"
    }
   ],
   "source": [
    "full_data.shape"
   ]
  },
  {
   "cell_type": "markdown",
   "id": "88509557-de29-4fcb-885a-6d80f4264a2d",
   "metadata": {},
   "source": [
    "### Target feature - SalePrice"
   ]
  },
  {
   "cell_type": "markdown",
   "id": "5f37ce7e-50de-4d1d-857d-5cd2724eba69",
   "metadata": {},
   "source": [
    "Removing outliers from the target feature"
   ]
  },
  {
   "cell_type": "code",
   "execution_count": 202,
   "id": "3cbf17d4-6094-400e-9434-f8b92d852839",
   "metadata": {},
   "outputs": [
    {
     "data": {
      "image/png": "[encoded data removed]",
      "text/plain": [
       "<Figure size 432x288 with 1 Axes>"
      ]
     },
     "metadata": {},
     "output_type": "display_data"
    }
   ],
   "source": [
    "sns.set_context('paper',font_scale=1.2)\n",
    "sns.set_style('darkgrid')\n",
    "sns.histplot(x='SalePrice',data=full_data,bins=30,kde=True)\n",
    "plt.show()"
   ]
  },
  {
   "cell_type": "code",
   "execution_count": 203,
   "id": "b83523e2-d8be-4eb3-9988-2435980a6d91",
   "metadata": {},
   "outputs": [
    {
     "data": {
      "text/plain": [
       "count      1460.000000\n",
       "mean     180921.195890\n",
       "std       79442.502883\n",
       "min       34900.000000\n",
       "25%      129975.000000\n",
       "50%      163000.000000\n",
       "75%      214000.000000\n",
       "max      755000.000000\n",
       "Name: SalePrice, dtype: float64"
      ]
     },
     "execution_count": 203,
     "metadata": {},
     "output_type": "execute_result"
    }
   ],
   "source": [
    "full_data['SalePrice'].describe()"
   ]
  },
  {
   "cell_type": "code",
   "execution_count": 204,
   "id": "5ac87343-6072-415f-ad49-3ebf96f6f143",
   "metadata": {},
   "outputs": [
    {
     "data": {
      "text/html": [
       "<div>\n",
       "<style scoped>\n",
       "    .dataframe tbody tr th:only-of-type {\n",
       "        vertical-align: middle;\n",
       "    }\n",
       "\n",
       "    .dataframe tbody tr th {\n",
       "        vertical-align: top;\n",
       "    }\n",
       "\n",
       "    .dataframe thead th {\n",
       "        text-align: right;\n",
       "    }\n",
       "</style>\n",
       "<table border=\"1\" class=\"dataframe\">\n",
       "  <thead>\n",
       "    <tr style=\"text-align: right;\">\n",
       "      <th></th>\n",
       "      <th>MSSubClass</th>\n",
       "      <th>MSZoning</th>\n",
       "      <th>LotFrontage</th>\n",
       "      <th>LotArea</th>\n",
       "      <th>LotShape</th>\n",
       "      <th>LandContour</th>\n",
       "      <th>LotConfig</th>\n",
       "      <th>LandSlope</th>\n",
       "      <th>Neighborhood</th>\n",
       "      <th>Condition1</th>\n",
       "      <th>...</th>\n",
       "      <th>GarageArea</th>\n",
       "      <th>GarageQual</th>\n",
       "      <th>PavedDrive</th>\n",
       "      <th>WoodDeckSF</th>\n",
       "      <th>OpenPorchSF</th>\n",
       "      <th>ScreenPorch</th>\n",
       "      <th>Fence</th>\n",
       "      <th>SaleType</th>\n",
       "      <th>SaleCondition</th>\n",
       "      <th>SalePrice</th>\n",
       "    </tr>\n",
       "    <tr>\n",
       "      <th>Id</th>\n",
       "      <th></th>\n",
       "      <th></th>\n",
       "      <th></th>\n",
       "      <th></th>\n",
       "      <th></th>\n",
       "      <th></th>\n",
       "      <th></th>\n",
       "      <th></th>\n",
       "      <th></th>\n",
       "      <th></th>\n",
       "      <th></th>\n",
       "      <th></th>\n",
       "      <th></th>\n",
       "      <th></th>\n",
       "      <th></th>\n",
       "      <th></th>\n",
       "      <th></th>\n",
       "      <th></th>\n",
       "      <th></th>\n",
       "      <th></th>\n",
       "      <th></th>\n",
       "    </tr>\n",
       "  </thead>\n",
       "  <tbody>\n",
       "    <tr>\n",
       "      <th>179</th>\n",
       "      <td>20</td>\n",
       "      <td>RL</td>\n",
       "      <td>63.0</td>\n",
       "      <td>17423</td>\n",
       "      <td>IR1</td>\n",
       "      <td>Lvl</td>\n",
       "      <td>CulDSac</td>\n",
       "      <td>Gtl</td>\n",
       "      <td>StoneBr</td>\n",
       "      <td>Norm</td>\n",
       "      <td>...</td>\n",
       "      <td>1166.0</td>\n",
       "      <td>3</td>\n",
       "      <td>Y</td>\n",
       "      <td>0</td>\n",
       "      <td>60</td>\n",
       "      <td>0</td>\n",
       "      <td>0</td>\n",
       "      <td>New</td>\n",
       "      <td>Partial</td>\n",
       "      <td>501837.0</td>\n",
       "    </tr>\n",
       "    <tr>\n",
       "      <th>441</th>\n",
       "      <td>20</td>\n",
       "      <td>RL</td>\n",
       "      <td>105.0</td>\n",
       "      <td>15431</td>\n",
       "      <td>Reg</td>\n",
       "      <td>Lvl</td>\n",
       "      <td>Inside</td>\n",
       "      <td>Gtl</td>\n",
       "      <td>NridgHt</td>\n",
       "      <td>Norm</td>\n",
       "      <td>...</td>\n",
       "      <td>672.0</td>\n",
       "      <td>3</td>\n",
       "      <td>Y</td>\n",
       "      <td>0</td>\n",
       "      <td>72</td>\n",
       "      <td>170</td>\n",
       "      <td>0</td>\n",
       "      <td>WD</td>\n",
       "      <td>Normal</td>\n",
       "      <td>555000.0</td>\n",
       "    </tr>\n",
       "    <tr>\n",
       "      <th>692</th>\n",
       "      <td>60</td>\n",
       "      <td>RL</td>\n",
       "      <td>104.0</td>\n",
       "      <td>21535</td>\n",
       "      <td>IR1</td>\n",
       "      <td>Lvl</td>\n",
       "      <td>Corner</td>\n",
       "      <td>Gtl</td>\n",
       "      <td>NoRidge</td>\n",
       "      <td>Norm</td>\n",
       "      <td>...</td>\n",
       "      <td>832.0</td>\n",
       "      <td>3</td>\n",
       "      <td>Y</td>\n",
       "      <td>382</td>\n",
       "      <td>50</td>\n",
       "      <td>0</td>\n",
       "      <td>0</td>\n",
       "      <td>WD</td>\n",
       "      <td>Normal</td>\n",
       "      <td>755000.0</td>\n",
       "    </tr>\n",
       "    <tr>\n",
       "      <th>770</th>\n",
       "      <td>60</td>\n",
       "      <td>RL</td>\n",
       "      <td>47.0</td>\n",
       "      <td>53504</td>\n",
       "      <td>IR2</td>\n",
       "      <td>HLS</td>\n",
       "      <td>CulDSac</td>\n",
       "      <td>Mod</td>\n",
       "      <td>StoneBr</td>\n",
       "      <td>Norm</td>\n",
       "      <td>...</td>\n",
       "      <td>841.0</td>\n",
       "      <td>3</td>\n",
       "      <td>Y</td>\n",
       "      <td>503</td>\n",
       "      <td>36</td>\n",
       "      <td>210</td>\n",
       "      <td>0</td>\n",
       "      <td>WD</td>\n",
       "      <td>Normal</td>\n",
       "      <td>538000.0</td>\n",
       "    </tr>\n",
       "    <tr>\n",
       "      <th>804</th>\n",
       "      <td>60</td>\n",
       "      <td>RL</td>\n",
       "      <td>107.0</td>\n",
       "      <td>13891</td>\n",
       "      <td>Reg</td>\n",
       "      <td>Lvl</td>\n",
       "      <td>Inside</td>\n",
       "      <td>Gtl</td>\n",
       "      <td>NridgHt</td>\n",
       "      <td>Norm</td>\n",
       "      <td>...</td>\n",
       "      <td>1020.0</td>\n",
       "      <td>3</td>\n",
       "      <td>Y</td>\n",
       "      <td>52</td>\n",
       "      <td>170</td>\n",
       "      <td>192</td>\n",
       "      <td>0</td>\n",
       "      <td>New</td>\n",
       "      <td>Partial</td>\n",
       "      <td>582933.0</td>\n",
       "    </tr>\n",
       "    <tr>\n",
       "      <th>899</th>\n",
       "      <td>20</td>\n",
       "      <td>RL</td>\n",
       "      <td>100.0</td>\n",
       "      <td>12919</td>\n",
       "      <td>IR1</td>\n",
       "      <td>Lvl</td>\n",
       "      <td>Inside</td>\n",
       "      <td>Gtl</td>\n",
       "      <td>NridgHt</td>\n",
       "      <td>Norm</td>\n",
       "      <td>...</td>\n",
       "      <td>820.0</td>\n",
       "      <td>3</td>\n",
       "      <td>Y</td>\n",
       "      <td>0</td>\n",
       "      <td>67</td>\n",
       "      <td>0</td>\n",
       "      <td>0</td>\n",
       "      <td>New</td>\n",
       "      <td>Partial</td>\n",
       "      <td>611657.0</td>\n",
       "    </tr>\n",
       "    <tr>\n",
       "      <th>1047</th>\n",
       "      <td>60</td>\n",
       "      <td>RL</td>\n",
       "      <td>85.0</td>\n",
       "      <td>16056</td>\n",
       "      <td>IR1</td>\n",
       "      <td>Lvl</td>\n",
       "      <td>Inside</td>\n",
       "      <td>Gtl</td>\n",
       "      <td>StoneBr</td>\n",
       "      <td>Norm</td>\n",
       "      <td>...</td>\n",
       "      <td>716.0</td>\n",
       "      <td>3</td>\n",
       "      <td>Y</td>\n",
       "      <td>214</td>\n",
       "      <td>108</td>\n",
       "      <td>0</td>\n",
       "      <td>0</td>\n",
       "      <td>New</td>\n",
       "      <td>Partial</td>\n",
       "      <td>556581.0</td>\n",
       "    </tr>\n",
       "    <tr>\n",
       "      <th>1170</th>\n",
       "      <td>60</td>\n",
       "      <td>RL</td>\n",
       "      <td>118.0</td>\n",
       "      <td>35760</td>\n",
       "      <td>IR1</td>\n",
       "      <td>Lvl</td>\n",
       "      <td>CulDSac</td>\n",
       "      <td>Gtl</td>\n",
       "      <td>NoRidge</td>\n",
       "      <td>Norm</td>\n",
       "      <td>...</td>\n",
       "      <td>807.0</td>\n",
       "      <td>3</td>\n",
       "      <td>Y</td>\n",
       "      <td>361</td>\n",
       "      <td>76</td>\n",
       "      <td>0</td>\n",
       "      <td>0</td>\n",
       "      <td>WD</td>\n",
       "      <td>Normal</td>\n",
       "      <td>625000.0</td>\n",
       "    </tr>\n",
       "    <tr>\n",
       "      <th>1183</th>\n",
       "      <td>60</td>\n",
       "      <td>RL</td>\n",
       "      <td>160.0</td>\n",
       "      <td>15623</td>\n",
       "      <td>IR1</td>\n",
       "      <td>Lvl</td>\n",
       "      <td>Corner</td>\n",
       "      <td>Gtl</td>\n",
       "      <td>NoRidge</td>\n",
       "      <td>Norm</td>\n",
       "      <td>...</td>\n",
       "      <td>813.0</td>\n",
       "      <td>3</td>\n",
       "      <td>Y</td>\n",
       "      <td>171</td>\n",
       "      <td>78</td>\n",
       "      <td>0</td>\n",
       "      <td>3</td>\n",
       "      <td>WD</td>\n",
       "      <td>Abnorml</td>\n",
       "      <td>745000.0</td>\n",
       "    </tr>\n",
       "  </tbody>\n",
       "</table>\n",
       "<p>9 rows × 56 columns</p>\n",
       "</div>"
      ],
      "text/plain": [
       "      MSSubClass MSZoning  LotFrontage  LotArea LotShape LandContour  \\\n",
       "Id                                                                     \n",
       "179           20       RL         63.0    17423      IR1         Lvl   \n",
       "441           20       RL        105.0    15431      Reg         Lvl   \n",
       "692           60       RL        104.0    21535      IR1         Lvl   \n",
       "770           60       RL         47.0    53504      IR2         HLS   \n",
       "804           60       RL        107.0    13891      Reg         Lvl   \n",
       "899           20       RL        100.0    12919      IR1         Lvl   \n",
       "1047          60       RL         85.0    16056      IR1         Lvl   \n",
       "1170          60       RL        118.0    35760      IR1         Lvl   \n",
       "1183          60       RL        160.0    15623      IR1         Lvl   \n",
       "\n",
       "     LotConfig LandSlope Neighborhood Condition1  ... GarageArea GarageQual  \\\n",
       "Id                                                ...                         \n",
       "179    CulDSac       Gtl      StoneBr       Norm  ...     1166.0          3   \n",
       "441     Inside       Gtl      NridgHt       Norm  ...      672.0          3   \n",
       "692     Corner       Gtl      NoRidge       Norm  ...      832.0          3   \n",
       "770    CulDSac       Mod      StoneBr       Norm  ...      841.0          3   \n",
       "804     Inside       Gtl      NridgHt       Norm  ...     1020.0          3   \n",
       "899     Inside       Gtl      NridgHt       Norm  ...      820.0          3   \n",
       "1047    Inside       Gtl      StoneBr       Norm  ...      716.0          3   \n",
       "1170   CulDSac       Gtl      NoRidge       Norm  ...      807.0          3   \n",
       "1183    Corner       Gtl      NoRidge       Norm  ...      813.0          3   \n",
       "\n",
       "      PavedDrive  WoodDeckSF  OpenPorchSF ScreenPorch Fence SaleType  \\\n",
       "Id                                                                     \n",
       "179            Y           0           60           0     0      New   \n",
       "441            Y           0           72         170     0       WD   \n",
       "692            Y         382           50           0     0       WD   \n",
       "770            Y         503           36         210     0       WD   \n",
       "804            Y          52          170         192     0      New   \n",
       "899            Y           0           67           0     0      New   \n",
       "1047           Y         214          108           0     0      New   \n",
       "1170           Y         361           76           0     0       WD   \n",
       "1183           Y         171           78           0     3       WD   \n",
       "\n",
       "     SaleCondition  SalePrice  \n",
       "Id                             \n",
       "179        Partial   501837.0  \n",
       "441         Normal   555000.0  \n",
       "692         Normal   755000.0  \n",
       "770         Normal   538000.0  \n",
       "804        Partial   582933.0  \n",
       "899        Partial   611657.0  \n",
       "1047       Partial   556581.0  \n",
       "1170        Normal   625000.0  \n",
       "1183       Abnorml   745000.0  \n",
       "\n",
       "[9 rows x 56 columns]"
      ]
     },
     "execution_count": 204,
     "metadata": {},
     "output_type": "execute_result"
    }
   ],
   "source": [
    "full_data[full_data['SalePrice'] > 500000]"
   ]
  },
  {
   "cell_type": "code",
   "execution_count": 205,
   "id": "5b7e38f7-0a13-4977-92ef-194251929cd7",
   "metadata": {},
   "outputs": [],
   "source": [
    "full_data = full_data.drop(full_data[full_data['SalePrice']>500000].index)"
   ]
  },
  {
   "cell_type": "code",
   "execution_count": 206,
   "id": "7fa33882-792e-4468-86a2-f3ad8ef5d199",
   "metadata": {},
   "outputs": [
    {
     "data": {
      "text/html": [
       "<div>\n",
       "<style scoped>\n",
       "    .dataframe tbody tr th:only-of-type {\n",
       "        vertical-align: middle;\n",
       "    }\n",
       "\n",
       "    .dataframe tbody tr th {\n",
       "        vertical-align: top;\n",
       "    }\n",
       "\n",
       "    .dataframe thead th {\n",
       "        text-align: right;\n",
       "    }\n",
       "</style>\n",
       "<table border=\"1\" class=\"dataframe\">\n",
       "  <thead>\n",
       "    <tr style=\"text-align: right;\">\n",
       "      <th></th>\n",
       "      <th>MSSubClass</th>\n",
       "      <th>MSZoning</th>\n",
       "      <th>LotFrontage</th>\n",
       "      <th>LotArea</th>\n",
       "      <th>LotShape</th>\n",
       "      <th>LandContour</th>\n",
       "      <th>LotConfig</th>\n",
       "      <th>LandSlope</th>\n",
       "      <th>Neighborhood</th>\n",
       "      <th>Condition1</th>\n",
       "      <th>...</th>\n",
       "      <th>GarageArea</th>\n",
       "      <th>GarageQual</th>\n",
       "      <th>PavedDrive</th>\n",
       "      <th>WoodDeckSF</th>\n",
       "      <th>OpenPorchSF</th>\n",
       "      <th>ScreenPorch</th>\n",
       "      <th>Fence</th>\n",
       "      <th>SaleType</th>\n",
       "      <th>SaleCondition</th>\n",
       "      <th>SalePrice</th>\n",
       "    </tr>\n",
       "    <tr>\n",
       "      <th>Id</th>\n",
       "      <th></th>\n",
       "      <th></th>\n",
       "      <th></th>\n",
       "      <th></th>\n",
       "      <th></th>\n",
       "      <th></th>\n",
       "      <th></th>\n",
       "      <th></th>\n",
       "      <th></th>\n",
       "      <th></th>\n",
       "      <th></th>\n",
       "      <th></th>\n",
       "      <th></th>\n",
       "      <th></th>\n",
       "      <th></th>\n",
       "      <th></th>\n",
       "      <th></th>\n",
       "      <th></th>\n",
       "      <th></th>\n",
       "      <th></th>\n",
       "      <th></th>\n",
       "    </tr>\n",
       "  </thead>\n",
       "  <tbody>\n",
       "  </tbody>\n",
       "</table>\n",
       "<p>0 rows × 56 columns</p>\n",
       "</div>"
      ],
      "text/plain": [
       "Empty DataFrame\n",
       "Columns: [MSSubClass, MSZoning, LotFrontage, LotArea, LotShape, LandContour, LotConfig, LandSlope, Neighborhood, Condition1, BldgType, HouseStyle, OverallQual, YearBuilt, YearRemodAdd, RoofStyle, Exterior1st, Exterior2nd, MasVnrType, MasVnrArea, ExterQual, ExterCond, Foundation, BsmtQual, BsmtCond, BsmtExposure, BsmtFinType1, BsmtFinSF1, BsmtFinType2, BsmtUnfSF, TotalBsmtSF, HeatingQC, CentralAir, Electrical, 2ndFlrSF, GrLivArea, BsmtFullBath, FullBath, HalfBath, BedroomAbvGr, KitchenQual, Functional, Fireplaces, FireplaceQu, GarageType, GarageFinish, GarageArea, GarageQual, PavedDrive, WoodDeckSF, OpenPorchSF, ScreenPorch, Fence, SaleType, SaleCondition, SalePrice]\n",
       "Index: []\n",
       "\n",
       "[0 rows x 56 columns]"
      ]
     },
     "execution_count": 206,
     "metadata": {},
     "output_type": "execute_result"
    }
   ],
   "source": [
    "full_data[full_data['SalePrice'] > 500000]"
   ]
  },
  {
   "cell_type": "markdown",
   "id": "e9a91ba2-f4b4-4f4e-b380-2901d14fe5b3",
   "metadata": {},
   "source": [
    "Normalizing the distribution "
   ]
  },
  {
   "cell_type": "code",
   "execution_count": 207,
   "id": "a0a0d55a-4de8-41f6-a147-a1a1975790ad",
   "metadata": {
    "tags": []
   },
   "outputs": [],
   "source": [
    "full_data[\"SalePrice\"] = np.log(full_data['SalePrice'])"
   ]
  },
  {
   "cell_type": "code",
   "execution_count": 208,
   "id": "864d5b57-0dc4-4209-a082-8b848e2bf6c3",
   "metadata": {},
   "outputs": [
    {
     "data": {
      "image/png": "[encoded data removed]",
      "text/plain": [
       "<Figure size 432x288 with 1 Axes>"
      ]
     },
     "metadata": {},
     "output_type": "display_data"
    }
   ],
   "source": [
    "sns.set_context('paper',font_scale=1.2)\n",
    "sns.set_style('darkgrid')\n",
    "sns.histplot(x='SalePrice',data=full_data,bins=30,kde=True)\n",
    "plt.show()"
   ]
  },
  {
   "cell_type": "markdown",
   "id": "7953e6b6-9994-4381-86a6-dec3cd5ff697",
   "metadata": {},
   "source": [
    "Generating numerical values for all variables in the full dataset"
   ]
  },
  {
   "cell_type": "code",
   "execution_count": 209,
   "id": "bedad2f8-946d-4ffb-b51e-3514d7a9da8b",
   "metadata": {},
   "outputs": [
    {
     "name": "stdout",
     "output_type": "stream",
     "text": [
      "full_data dataset: 2910 rows and 190 columns\n"
     ]
    }
   ],
   "source": [
    "full_data = pd.get_dummies(full_data)\n",
    "full_data.to_csv('full_data.csv',index=True)\n",
    "print(f'full_data dataset: {full_data.shape[0]} rows and {full_data.shape[1]} columns')"
   ]
  }
 ],
 "metadata": {
  "kernelspec": {
   "display_name": "Python 3 (ipykernel)",
   "language": "python",
   "name": "python3"
  },
  "language_info": {
   "codemirror_mode": {
    "name": "ipython",
    "version": 3
   },
   "file_extension": ".py",
   "mimetype": "text/x-python",
   "name": "python",
   "nbconvert_exporter": "python",
   "pygments_lexer": "ipython3",
   "version": "3.9.7"
  },
  "toc-autonumbering": true
 },
 "nbformat": 4,
 "nbformat_minor": 5
}
